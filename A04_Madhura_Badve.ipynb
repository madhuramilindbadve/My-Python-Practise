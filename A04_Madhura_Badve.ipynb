{
 "cells": [
  {
   "cell_type": "markdown",
   "metadata": {},
   "source": [
    "# Q1"
   ]
  },
  {
   "cell_type": "code",
   "execution_count": 6,
   "metadata": {},
   "outputs": [
    {
     "name": "stdout",
     "output_type": "stream",
     "text": [
      "Enter number\n",
      "None153\n",
      "153 is Armstrong\n"
     ]
    }
   ],
   "source": [
    "class Check :\n",
    "\n",
    "    def __init__(self,number) :\n",
    "        self.num = number\n",
    "        \n",
    "    \n",
    "    def isArmstrong(self) :\n",
    "        temp = self.num\n",
    "        res = 0\n",
    "        while(temp != 0) :\n",
    "            \n",
    "            rem = temp % 10\n",
    "\n",
    "            res += rem ** 3\n",
    "\n",
    "            temp //= 10\n",
    "\n",
    "        if self.num == res :\n",
    "            print(self.num,\"is Armstrong\")\n",
    "        else :\n",
    "            print(self.num,\"is not Armstrong\")\n",
    "            \n",
    "            \n",
    "\n",
    "if __name__ == \"__main__\" :\n",
    "    \n",
    "    num = int(input(print(\"Enter number\")))\n",
    "    \n",
    "    check_Armstrong = Check(num)\n",
    "    \n",
    "    check_Armstrong.isArmstrong()"
   ]
  },
  {
   "cell_type": "markdown",
   "metadata": {},
   "source": [
    "# Q2"
   ]
  },
  {
   "cell_type": "code",
   "execution_count": 7,
   "metadata": {},
   "outputs": [
    {
     "name": "stdout",
     "output_type": "stream",
     "text": [
      "Enter number\n",
      "None151\n",
      "151 is Palindrome\n",
      "Enter number\n",
      "None137\n",
      "137 is not Palindrome\n"
     ]
    }
   ],
   "source": [
    "class Check :\n",
    "    def __init__(self,number) :\n",
    "        self.num = number\n",
    "        \n",
    "    def isPalindrome(self) :\n",
    "        temp = self.num\n",
    "\n",
    "        result = 0\n",
    "\n",
    "        while(temp != 0) :\n",
    "            \n",
    "            rem = temp % 10\n",
    "\n",
    "            result =  result * 10 + rem\n",
    "\n",
    "            temp //= 10\n",
    "\n",
    "        if self.num == result :\n",
    "            print(self.num,\"is Palindrome\")\n",
    "        else :\n",
    "            print(self.num,\"is not Palindrome\")\n",
    "\n",
    "\n",
    "if __name__ == \"__main__\" :\n",
    "    \n",
    "    num = input(print(\"Enter number\"))\n",
    "    num = int(num)\n",
    "    \n",
    "    check_Palindrome = Check(num)\n",
    "    check_Palindrome.isPalindrome()\n",
    "    \n",
    "    num = input(print(\"Enter number\"))\n",
    "    num = int(num)\n",
    "    \n",
    "    check_Palindrome = Check(num)\n",
    "    check_Palindrome.isPalindrome()\n"
   ]
  },
  {
   "cell_type": "markdown",
   "metadata": {},
   "source": [
    "# Q3"
   ]
  },
  {
   "cell_type": "code",
   "execution_count": 13,
   "metadata": {},
   "outputs": [
    {
     "name": "stdout",
     "output_type": "stream",
     "text": [
      "1 .  Coffee : 25\n",
      "2 .  Tea : 15\n",
      "3 .  Bhel : 18\n",
      "4 .  Dabeli : 20\n",
      "5 .  VadaPav : 15\n",
      "6 .  PaniPuri : 12\n",
      "7 .  Patice : 25\n",
      "8 .  Juice : 35\n"
     ]
    }
   ],
   "source": [
    "class Food(object):\n",
    "    def __init__(self, name, price):\n",
    "        self.name = name\n",
    "        self.price = price\n",
    "    \n",
    "    def getprice(self):\n",
    "        return self.price\n",
    "    \n",
    "    def __str__(self):\n",
    "        return self.name + ' : ' + str(self.getprice())\n",
    "  \n",
    "\n",
    "def buildmenu(names, costs):\n",
    "    menu = []\n",
    "    for i in range(len(names)):\n",
    "        menu.append(Food(names[i], costs[i]))\n",
    "    return menu\n",
    "\n",
    "names = ['Coffee', 'Tea', 'Bhel', 'Dabeli', 'VadaPav', 'PaniPuri', 'Patice', 'Juice']\n",
    "\n",
    "costs = [25, 15, 18, 20, 15, 12, 25, 35]\n",
    "\n",
    "Foods = buildmenu(names, costs)\n",
    "\n",
    "n = 1\n",
    "for el in Foods:\n",
    "    print(n,'. ', el)\n",
    "    n = n + 1\n"
   ]
  },
  {
   "cell_type": "markdown",
   "metadata": {},
   "source": [
    "# Q4"
   ]
  },
  {
   "cell_type": "code",
   "execution_count": 14,
   "metadata": {},
   "outputs": [
    {
     "name": "stdout",
     "output_type": "stream",
     "text": [
      "Enter the name of the student: Madhura\n",
      "Enter the roll number: 4\n",
      "Marks: 88\n",
      "another student? y/n: y\n",
      "Enter the name of the student: Rasika\n",
      "Enter the roll number: 16\n",
      "Marks: 88\n",
      "another student? y/n: n\n",
      "1 .  Madhura : 88  ::4\n",
      "2 .  Rasika : 88  ::16\n"
     ]
    }
   ],
   "source": [
    "class Student(object):\n",
    "    def __init__(self, name, roll, marks):\n",
    "        self.name = name\n",
    "        self.roll = roll\n",
    "        self.marks = marks\n",
    "    \n",
    "    def getmarks(self):\n",
    "        return self.marks\n",
    "    \n",
    "    def getroll(self):\n",
    "        return self.roll\n",
    "    \n",
    "    def __str__(self):\n",
    "        return self.name + ' : ' + str(self.getroll()) +'  ::'+  str(self.getmarks())\n",
    "  \n",
    "\n",
    "def Markss(rec, name, roll, marks):\n",
    "    rec.append(Student(name, roll, marks))\n",
    "    return rec\n",
    "\n",
    "Record = []\n",
    "x = 'y'\n",
    "while x == 'y':\n",
    "    name = input('Enter the name of the student: ')\n",
    "    height = input('Enter the roll number: ')\n",
    "    roll = input('Marks: ')\n",
    "    Record = Markss(Record, name, roll, height)\n",
    "    x = input('another student? y/n: ')\n",
    "    \n",
    "n = 1\n",
    "for el in Record:\n",
    "    print(n,'. ', el)\n",
    "    n = n + 1\n"
   ]
  },
  {
   "cell_type": "markdown",
   "metadata": {},
   "source": [
    "# Q5"
   ]
  },
  {
   "cell_type": "code",
   "execution_count": 15,
   "metadata": {},
   "outputs": [
    {
     "name": "stdout",
     "output_type": "stream",
     "text": [
      "Enter the name of the Phone: Samsung j4\n",
      "Enter the model number: 123566\n",
      "price: 8000\n",
      "Another Phone? y/n: y\n",
      "Enter the name of the Phone: oppo\n",
      "Enter the model number: 743537\n",
      "price: 6000\n",
      "Another Phone? y/n: n\n",
      "---The list of the phone that store have---\n",
      "1 .  Samsung j4 : 8000  ::123566\n",
      "2 .  oppo : 6000  ::743537\n"
     ]
    }
   ],
   "source": [
    "class Phone(object):\n",
    "    def __init__(self, phnname, model, price):\n",
    "        self.phnname = phnname\n",
    "        self.model = model\n",
    "        self.price = price\n",
    "    \n",
    "    def getprice(self):\n",
    "        return self.price\n",
    "    \n",
    "    def getmodel(self):\n",
    "        return self.model\n",
    "    \n",
    "    def __str__(self):\n",
    "        return self.phnname + ' : ' + str(self.getmodel()) +'  ::'+  str(self.getprice())\n",
    "  \n",
    "\n",
    "def prices(rec, phnname, model, price):\n",
    "    rec.append(Phone(phnname, model, price))\n",
    "    return rec\n",
    "\n",
    "Record = []\n",
    "x = 'y'\n",
    "while x == 'y':\n",
    "    phnname = input('Enter the name of the Phone: ')\n",
    "    height = input('Enter the model number: ')\n",
    "    model = input('price: ')\n",
    "    Record = prices(Record, phnname, model, height)\n",
    "    x = input('Another Phone? y/n: ')\n",
    "    \n",
    "n = 1\n",
    "print(\"---The list of the phone that store have---\")\n",
    "for el in Record:\n",
    "    print(n,'. ', el)\n",
    "    n = n + 1\n"
   ]
  },
  {
   "cell_type": "markdown",
   "metadata": {},
   "source": [
    "# Q6"
   ]
  },
  {
   "cell_type": "code",
   "execution_count": 17,
   "metadata": {},
   "outputs": [
    {
     "name": "stdout",
     "output_type": "stream",
     "text": [
      "Want to add a flashcard? y\n",
      "Word you want to add to your Flashcards: illusion\n",
      "Meaning of the word in flashcard: not real\n",
      "for adding another flashcard, press Y/y :y\n",
      "Word you want to add to your Flashcards: epiphany\n",
      "Meaning of the word in flashcard: sudden realisation of something\n",
      "for adding another flashcard, press Y/y :n\n",
      "----Following are the flashcards you made----\n",
      "illusion : not real\n",
      "epiphany : sudden realisation of something\n"
     ]
    }
   ],
   "source": [
    "class card(object):\n",
    "    def __init__(self, word, meaning):\n",
    "        self.word = word\n",
    "        self.meaning = meaning\n",
    "        \n",
    "    def getmeaning(self):\n",
    "        return self.meaning\n",
    "    \n",
    "    def __str__(self):\n",
    "        return self.word + ' : ' + self.getmeaning()\n",
    "  \n",
    "def flashcard(flash, words, meanings):\n",
    "    flash.append(card(words, meanings))\n",
    "    return flash\n",
    "\n",
    "lists = []\n",
    "y = input(\"Want to add a flashcard? \")\n",
    "while y == 'y' or y == 'Y':\n",
    "    word = input(\"Word you want to add to your Flashcards: \")\n",
    "    meaning = input(\"Meaning of the word in flashcard: \")\n",
    "    lists = flashcard(lists, word, meaning)\n",
    "    y = input(\"for adding another flashcard, press Y/y :\")\n",
    "\n",
    "print(\"----Following are the flashcards you made----\")\n",
    "for el in lists:\n",
    "    print(el)    "
   ]
  },
  {
   "cell_type": "markdown",
   "metadata": {},
   "source": [
    "# Q7"
   ]
  },
  {
   "cell_type": "code",
   "execution_count": 18,
   "metadata": {},
   "outputs": [
    {
     "name": "stdout",
     "output_type": "stream",
     "text": [
      "Enter Employee Data:\n",
      "Enter Id\t:123\n",
      "Enter Name\t:Abhay\n",
      "Enter Gender:male\n",
      "Enter City\t:pune\n",
      "Enter Salary:40000\n",
      "\n",
      "Displaying Employee Data:\n",
      "Id\t\t: 123\n",
      "Name\t: Abhay\n",
      "Gender\t: male\n",
      "City\t: pune\n",
      "Salary\t: 40000\n"
     ]
    }
   ],
   "source": [
    "class Employee:\n",
    "    def __init__(self): \n",
    "        self.__id = 0\n",
    "        self.__name = \"\"\n",
    "        self.__gender = \"\"\n",
    "        self.__city = \"\"\n",
    "        self.__salary = 0\n",
    "\n",
    "    def getId(self):         \n",
    "        return self.__id\n",
    "    def setId(self,id):      \n",
    "        self.__id=id\n",
    "\n",
    "    def getName(self):\n",
    "        return self.__name\n",
    "    def setName(self,name):\n",
    "        self.__name=name\n",
    "\n",
    "    def getGender(self):\n",
    "        return self.__gender\n",
    "    def setGender(self,gender):\n",
    "        self.__gender=gender\n",
    "\n",
    "    def getCity(self):\n",
    "        return self.__city\n",
    "    def setCity(self,city):\n",
    "        self.__city=city\n",
    "\n",
    "    def getSalary(self):\n",
    "        return self.__salary\n",
    "    def setSalary(self,salary):\n",
    "        self.__salary=salary\n",
    "\n",
    "def main():\n",
    "    print(\"Enter Employee Data:\")\n",
    "    id = int(input(\"Enter Id\\t:\"))\n",
    "    name = input(\"Enter Name\\t:\")\n",
    "    gender = input(\"Enter Gender:\")\n",
    "    city = input(\"Enter City\\t:\")\n",
    "    salary = int(input(\"Enter Salary:\"))\n",
    "\n",
    "    e=Employee()\n",
    "    e.setId(id)\n",
    "    e.setName(name)\n",
    "    e.setGender(gender)\n",
    "    e.setCity(city)\n",
    "    e.setSalary(salary)\n",
    "    id2 = e.getId()\n",
    "    name2 = e.getName()\n",
    "    gender2 = e.getGender()\n",
    "    city2 = e.getCity()\n",
    "    salary2 = e.getSalary()\n",
    "\n",
    "\n",
    "    print(\"\\nDisplaying Employee Data:\")\n",
    "    print(\"Id\\t\\t:\", id2)\n",
    "    print(\"Name\\t:\", name2)\n",
    "    print(\"Gender\\t:\", gender2)\n",
    "    print(\"City\\t:\", city2)\n",
    "    print(\"Salary\\t:\", salary2)\n",
    "\n",
    "\n",
    "if __name__==\"__main__\":\n",
    "    main()\n"
   ]
  },
  {
   "cell_type": "markdown",
   "metadata": {},
   "source": [
    "# Q8"
   ]
  },
  {
   "cell_type": "code",
   "execution_count": 21,
   "metadata": {},
   "outputs": [
    {
     "name": "stdout",
     "output_type": "stream",
     "text": [
      "Enter number\n",
      "None5\n",
      "{1: 1, 2: 4, 3: 9, 4: 16, 5: 25}\n"
     ]
    }
   ],
   "source": [
    "n = input(print(\"Enter number\"))\n",
    "n = int(n)\n",
    "\n",
    "numbers = {}\n",
    "\n",
    "for i in range(1, n+1):\n",
    "    numbers[i] = i * i\n",
    "\n",
    "print (numbers)\n"
   ]
  },
  {
   "cell_type": "markdown",
   "metadata": {},
   "source": [
    "# Q9"
   ]
  },
  {
   "cell_type": "code",
   "execution_count": 26,
   "metadata": {},
   "outputs": [
    {
     "name": "stdout",
     "output_type": "stream",
     "text": [
      "Enter number\n",
      "None12\n",
      "12  is EVEN\n",
      "Enter number\n",
      "None23\n",
      "23  is ODD\n"
     ]
    }
   ],
   "source": [
    "def CheckEvenOdd(num): \n",
    "    if (num % 2 == 0): \n",
    "        print(num,\" is EVEN\")\n",
    "    else: \n",
    "        print(num,\" is ODD\")\n",
    "  \n",
    "n = input(print(\"Enter number\"))\n",
    "n = int(n)\n",
    "    \n",
    "CheckEvenOdd(n) \n",
    "\n",
    "n = input(print(\"Enter number\"))\n",
    "n = int(n)\n",
    "    \n",
    "CheckEvenOdd(n) "
   ]
  },
  {
   "cell_type": "markdown",
   "metadata": {},
   "source": [
    "# Q10"
   ]
  },
  {
   "cell_type": "code",
   "execution_count": 41,
   "metadata": {},
   "outputs": [
    {
     "name": "stdout",
     "output_type": "stream",
     "text": [
      "Enter transaction: D 10000\n",
      "want to continue (Y for yes) : y\n",
      "Enter transaction: W 2000\n",
      "want to continue (Y for yes) : n\n",
      "Net amount:  8000\n"
     ]
    }
   ],
   "source": [
    "net_amount = 0\n",
    "\n",
    "while True:\n",
    "\t# input the transaction \n",
    "\tstr = input (\"Enter transaction: \")\n",
    "\n",
    "\t# get the value type and amount to the list \n",
    "\t# seprated by space\n",
    "\ttransaction = str.split(\" \")\n",
    "\n",
    "\t# get the value of transaction type and amount \n",
    "\t# in the separated variables\n",
    "\ttype = transaction [0]\n",
    "\tamount = int (transaction [1])\n",
    "\n",
    "\tif type==\"D\" or type==\"d\":\n",
    "\t\tnet_amount += amount\n",
    "\telif type==\"W\" or type==\"w\":\n",
    "\t\tnet_amount -= amount\n",
    "\telse:\n",
    "\t\tpass\n",
    "\n",
    "\t#input choice \n",
    "\tstr = input (\"want to continue (Y for yes) : \")\n",
    "\tif not (str[0] ==\"Y\" or str[0] ==\"y\") :\n",
    "\t\t# break the loop \n",
    "\t\tbreak\n",
    "\n",
    "# print the net amount\n",
    "print(\"Net amount: \", net_amount)"
   ]
  },
  {
   "cell_type": "code",
   "execution_count": null,
   "metadata": {},
   "outputs": [],
   "source": []
  }
 ],
 "metadata": {
  "kernelspec": {
   "display_name": "Python 3",
   "language": "python",
   "name": "python3"
  },
  "language_info": {
   "codemirror_mode": {
    "name": "ipython",
    "version": 3
   },
   "file_extension": ".py",
   "mimetype": "text/x-python",
   "name": "python",
   "nbconvert_exporter": "python",
   "pygments_lexer": "ipython3",
   "version": "3.8.3"
  }
 },
 "nbformat": 4,
 "nbformat_minor": 4
}
